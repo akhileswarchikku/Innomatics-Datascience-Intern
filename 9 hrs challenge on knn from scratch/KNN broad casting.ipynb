{
 "cells": [
  {
   "cell_type": "code",
   "execution_count": 230,
   "metadata": {},
   "outputs": [],
   "source": [
    "import pandas as pd\n",
    "import numpy as np\n",
    "from sklearn import preprocessing\n",
    "from sklearn.model_selection import train_test_split\n",
    "label_encoder = preprocessing.LabelEncoder() "
   ]
  },
  {
   "cell_type": "code",
   "execution_count": 231,
   "metadata": {},
   "outputs": [],
   "source": [
    "df=pd.read_csv('diamonds.csv')\n",
    "column_names = ['carat', 'cut', 'color', 'clarity', 'depth', 'table', 'x', 'y', 'z',\n",
    "       'price']\n",
    "\n",
    "df = df.reindex(columns=column_names)"
   ]
  },
  {
   "cell_type": "code",
   "execution_count": 232,
   "metadata": {},
   "outputs": [],
   "source": [
    "df_x=df.iloc[0:,0:9]\n",
    "df_y=df[['price']]"
   ]
  },
  {
   "cell_type": "code",
   "execution_count": 233,
   "metadata": {},
   "outputs": [],
   "source": [
    "df['cut']= label_encoder.fit_transform(df['cut'])\n",
    "df['color']= label_encoder.fit_transform(df['color'])\n",
    "df['clarity']= label_encoder.fit_transform(df['clarity'])"
   ]
  },
  {
   "cell_type": "code",
   "execution_count": 234,
   "metadata": {},
   "outputs": [],
   "source": [
    "df_x=df.iloc[0:,0:9]\n",
    "df_y=df[['price']]"
   ]
  },
  {
   "cell_type": "code",
   "execution_count": 235,
   "metadata": {},
   "outputs": [],
   "source": [
    "X_train, X_test, y_train, y_test = train_test_split(df_x, df_y, test_size=0.20, random_state=42)"
   ]
  },
  {
   "cell_type": "code",
   "execution_count": 236,
   "metadata": {},
   "outputs": [
    {
     "name": "stdout",
     "output_type": "stream",
     "text": [
      "(43152, 9) (10788, 9) (43152, 1) (10788, 1)\n"
     ]
    }
   ],
   "source": [
    "print(X_train.shape,X_test.shape,y_train.shape,y_test.shape)"
   ]
  },
  {
   "cell_type": "code",
   "execution_count": 238,
   "metadata": {},
   "outputs": [
    {
     "name": "stdout",
     "output_type": "stream",
     "text": [
      "When kvalues= 13 Absolute Mean error in is: 2304\n",
      "When kvalues= 3 Absolute Mean error in is: 2572\n",
      "When kvalues= 10 Absolute Mean error in is: 2316\n",
      "When kvalues= 11 Absolute Mean error in is: 2340\n",
      "When kvalues= 6 Absolute Mean error in is: 2553\n",
      "When kvalues= 19 Absolute Mean error in is: 2330\n",
      "When kvalues= 16 Absolute Mean error in is: 2306\n",
      "When kvalues= 7 Absolute Mean error in is: 2426\n",
      "When kvalues= 1 Absolute Mean error in is: 3519\n",
      "When kvalues= 4 Absolute Mean error in is: 2478\n"
     ]
    }
   ],
   "source": [
    "kvalues={}\n",
    "while len(kvalues)<10:\n",
    "    k=random.randrange(1, 20, 1)\n",
    "    if k not in kvalues:\n",
    "        predicted=[]\n",
    "        for i in range(0,20):#,X_test.shape[0]):\n",
    "            #print(i)\n",
    "            #print(np.sqrt(np.square(np.sum(np.array(X_train)-np.array(X_test)[1],axis=1))),X_test.index[i])\n",
    "            df=pd.DataFrame({'X_train':list(X_train.index),'X_test':[X_test.index[i]]*X_train.shape[0],'distance':\n",
    "                            list(np.sqrt(np.square(np.sum(np.array(X_train)-np.array(X_test)[i],axis=1))))})\n",
    "            df.sort_values(by=['distance'],inplace=True)\n",
    "            df1=df.iloc[0:k,0:1]\n",
    "            sum1=0\n",
    "            for i in df1['X_train'].values.tolist():\n",
    "                sum1=sum1+y_train.loc[y_train.index==i,'price'].values[0]\n",
    "            predicted.append(list(X_test.iloc[(X_test.index==df.iloc[1,1])].values[0])+[y_test.loc[(y_test.index==df.iloc[1,1]),'price'].values[0],sum1//k]+[np.abs((sum1//k)-y_test.loc[(y_test.index==df.iloc[1,1]),'price'].values[0])])\n",
    "        final=pd.DataFrame(predicted)\n",
    "        final.columns=X_train.columns.values.tolist()+['Predicted price','Actual price','error']\n",
    "        kvalues[k]=np.int(np.divide(final.error.sum(),final.shape[0]))\n",
    "for i in kvalues:\n",
    "    print('When kvalues=',i,'Absolute Mean error in is:',kvalues[i])"
   ]
  },
  {
   "cell_type": "code",
   "execution_count": null,
   "metadata": {},
   "outputs": [],
   "source": []
  }
 ],
 "metadata": {
  "kernelspec": {
   "display_name": "Python 3",
   "language": "python",
   "name": "python3"
  },
  "language_info": {
   "codemirror_mode": {
    "name": "ipython",
    "version": 3
   },
   "file_extension": ".py",
   "mimetype": "text/x-python",
   "name": "python",
   "nbconvert_exporter": "python",
   "pygments_lexer": "ipython3",
   "version": "3.8.5"
  }
 },
 "nbformat": 4,
 "nbformat_minor": 4
}
